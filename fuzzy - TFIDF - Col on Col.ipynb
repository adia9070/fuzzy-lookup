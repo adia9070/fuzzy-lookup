{
 "cells": [
  {
   "cell_type": "code",
   "execution_count": 37,
   "id": "23fe29ae",
   "metadata": {},
   "outputs": [
    {
     "name": "stderr",
     "output_type": "stream",
     "text": [
      "c:\\python3\\lib\\site-packages\\fuzzywuzzy\\fuzz.py:11: UserWarning: Using slow pure-python SequenceMatcher. Install python-Levenshtein to remove this warning\n",
      "  warnings.warn('Using slow pure-python SequenceMatcher. Install python-Levenshtein to remove this warning')\n"
     ]
    }
   ],
   "source": [
    "import re\n",
    "import pandas as pd\n",
    "import numpy as np\n",
    "from tqdm import tqdm\n",
    "from fuzzywuzzy import fuzz\n",
    "from sklearn.feature_extraction.text import TfidfVectorizer\n",
    "tqdm.pandas()"
   ]
  },
  {
   "cell_type": "markdown",
   "id": "195fd54e",
   "metadata": {},
   "source": [
    "# Read Data and Add Index"
   ]
  },
  {
   "cell_type": "code",
   "execution_count": 39,
   "id": "9efa1549",
   "metadata": {},
   "outputs": [],
   "source": [
    "ccag = ['QHP017 ADVANTAGE HEALTH NYC', 'DISCOUNT CARD AMERICAN HEALTH COPR', 'AMWINS MEDICARE MAPH QHP', 'AARONS INC']\n",
    "company = ['VANTAGE HEALTH PLAN', 'AMERICAN HEALTH COPR', 'AMWINS RX', 'AARONS CONCRETE']"
   ]
  },
  {
   "cell_type": "code",
   "execution_count": 40,
   "id": "b0f73435",
   "metadata": {},
   "outputs": [],
   "source": [
    "df = pd.DataFrame({\n",
    "    'ccag':ccag,\n",
    "    'company':company\n",
    "})"
   ]
  },
  {
   "cell_type": "code",
   "execution_count": 41,
   "id": "429f7ab4",
   "metadata": {},
   "outputs": [],
   "source": [
    "df['index'] = df.index\n",
    "df.insert(0, 'index',  df.pop('index'))"
   ]
  },
  {
   "cell_type": "code",
   "execution_count": 42,
   "id": "9b99d636",
   "metadata": {
    "scrolled": true
   },
   "outputs": [
    {
     "data": {
      "text/html": [
       "<div>\n",
       "<style scoped>\n",
       "    .dataframe tbody tr th:only-of-type {\n",
       "        vertical-align: middle;\n",
       "    }\n",
       "\n",
       "    .dataframe tbody tr th {\n",
       "        vertical-align: top;\n",
       "    }\n",
       "\n",
       "    .dataframe thead th {\n",
       "        text-align: right;\n",
       "    }\n",
       "</style>\n",
       "<table border=\"1\" class=\"dataframe\">\n",
       "  <thead>\n",
       "    <tr style=\"text-align: right;\">\n",
       "      <th></th>\n",
       "      <th>index</th>\n",
       "      <th>ccag</th>\n",
       "      <th>company</th>\n",
       "    </tr>\n",
       "  </thead>\n",
       "  <tbody>\n",
       "    <tr>\n",
       "      <th>0</th>\n",
       "      <td>0</td>\n",
       "      <td>QHP017 ADVANTAGE HEALTH NYC</td>\n",
       "      <td>VANTAGE HEALTH PLAN</td>\n",
       "    </tr>\n",
       "    <tr>\n",
       "      <th>1</th>\n",
       "      <td>1</td>\n",
       "      <td>DISCOUNT CARD AMERICAN HEALTH COPR</td>\n",
       "      <td>AMERICAN HEALTH COPR</td>\n",
       "    </tr>\n",
       "    <tr>\n",
       "      <th>2</th>\n",
       "      <td>2</td>\n",
       "      <td>AMWINS MEDICARE MAPH QHP</td>\n",
       "      <td>AMWINS RX</td>\n",
       "    </tr>\n",
       "    <tr>\n",
       "      <th>3</th>\n",
       "      <td>3</td>\n",
       "      <td>AARONS INC</td>\n",
       "      <td>AARONS CONCRETE</td>\n",
       "    </tr>\n",
       "  </tbody>\n",
       "</table>\n",
       "</div>"
      ],
      "text/plain": [
       "   index                                ccag               company\n",
       "0      0         QHP017 ADVANTAGE HEALTH NYC   VANTAGE HEALTH PLAN\n",
       "1      1  DISCOUNT CARD AMERICAN HEALTH COPR  AMERICAN HEALTH COPR\n",
       "2      2            AMWINS MEDICARE MAPH QHP             AMWINS RX\n",
       "3      3                          AARONS INC       AARONS CONCRETE"
      ]
     },
     "execution_count": 42,
     "metadata": {},
     "output_type": "execute_result"
    }
   ],
   "source": [
    "df"
   ]
  },
  {
   "cell_type": "markdown",
   "id": "fe4f420c",
   "metadata": {},
   "source": [
    "# TF-IDF Algorithm"
   ]
  },
  {
   "cell_type": "code",
   "execution_count": 43,
   "id": "ce5fe1a1",
   "metadata": {},
   "outputs": [],
   "source": [
    "def ngrams(string, n=3):\n",
    "    string = re.sub(r'[,-./]|\\sBD',r'', string)\n",
    "    ngrams = zip(*[string[i:] for i in range(n)])\n",
    "    return [''.join(ngram) for ngram in ngrams]"
   ]
  },
  {
   "cell_type": "code",
   "execution_count": 44,
   "id": "dd907916",
   "metadata": {},
   "outputs": [],
   "source": [
    "vectorizer = TfidfVectorizer(min_df = 0,token_pattern='(?u)\\\\b\\\\w+\\\\b')\n",
    "train_matrix = vectorizer.fit_transform(ccag+company)\n",
    "query_matrix = vectorizer.transform(company)"
   ]
  },
  {
   "cell_type": "code",
   "execution_count": 45,
   "id": "a3e2c72e",
   "metadata": {},
   "outputs": [],
   "source": [
    "ccag_matrix = train_matrix[0:len(ccag)].toarray()\n",
    "company_matrix = query_matrix.toarray()"
   ]
  },
  {
   "cell_type": "code",
   "execution_count": 46,
   "id": "3f85ebe2",
   "metadata": {},
   "outputs": [],
   "source": [
    "def compute_similarity(row, ccag_matrix, company_matrix):\n",
    "    index = row['index']\n",
    "    return round(np.dot(ccag_matrix[index], company_matrix[index].T) * 100)"
   ]
  },
  {
   "cell_type": "code",
   "execution_count": 47,
   "id": "b99b8711",
   "metadata": {},
   "outputs": [
    {
     "name": "stderr",
     "output_type": "stream",
     "text": [
      "100%|██████████████████████████████████████████████████████████████████████████████████| 4/4 [00:00<00:00, 4006.02it/s]\n"
     ]
    }
   ],
   "source": [
    "df['%similarity'] = df.progress_apply(compute_similarity, args=(ccag_matrix,company_matrix), axis=1)"
   ]
  },
  {
   "cell_type": "markdown",
   "id": "32f6db7f",
   "metadata": {},
   "source": [
    "# Final Output"
   ]
  },
  {
   "cell_type": "code",
   "execution_count": 48,
   "id": "abbdb73c",
   "metadata": {},
   "outputs": [
    {
     "data": {
      "text/html": [
       "<div>\n",
       "<style scoped>\n",
       "    .dataframe tbody tr th:only-of-type {\n",
       "        vertical-align: middle;\n",
       "    }\n",
       "\n",
       "    .dataframe tbody tr th {\n",
       "        vertical-align: top;\n",
       "    }\n",
       "\n",
       "    .dataframe thead th {\n",
       "        text-align: right;\n",
       "    }\n",
       "</style>\n",
       "<table border=\"1\" class=\"dataframe\">\n",
       "  <thead>\n",
       "    <tr style=\"text-align: right;\">\n",
       "      <th></th>\n",
       "      <th>index</th>\n",
       "      <th>ccag</th>\n",
       "      <th>company</th>\n",
       "      <th>%similarity</th>\n",
       "    </tr>\n",
       "  </thead>\n",
       "  <tbody>\n",
       "    <tr>\n",
       "      <th>0</th>\n",
       "      <td>0</td>\n",
       "      <td>QHP017 ADVANTAGE HEALTH NYC</td>\n",
       "      <td>VANTAGE HEALTH PLAN</td>\n",
       "      <td>14</td>\n",
       "    </tr>\n",
       "    <tr>\n",
       "      <th>1</th>\n",
       "      <td>1</td>\n",
       "      <td>DISCOUNT CARD AMERICAN HEALTH COPR</td>\n",
       "      <td>AMERICAN HEALTH COPR</td>\n",
       "      <td>69</td>\n",
       "    </tr>\n",
       "    <tr>\n",
       "      <th>2</th>\n",
       "      <td>2</td>\n",
       "      <td>AMWINS MEDICARE MAPH QHP</td>\n",
       "      <td>AMWINS RX</td>\n",
       "      <td>28</td>\n",
       "    </tr>\n",
       "    <tr>\n",
       "      <th>3</th>\n",
       "      <td>3</td>\n",
       "      <td>AARONS INC</td>\n",
       "      <td>AARONS CONCRETE</td>\n",
       "      <td>41</td>\n",
       "    </tr>\n",
       "  </tbody>\n",
       "</table>\n",
       "</div>"
      ],
      "text/plain": [
       "   index                                ccag               company  \\\n",
       "0      0         QHP017 ADVANTAGE HEALTH NYC   VANTAGE HEALTH PLAN   \n",
       "1      1  DISCOUNT CARD AMERICAN HEALTH COPR  AMERICAN HEALTH COPR   \n",
       "2      2            AMWINS MEDICARE MAPH QHP             AMWINS RX   \n",
       "3      3                          AARONS INC       AARONS CONCRETE   \n",
       "\n",
       "   %similarity  \n",
       "0           14  \n",
       "1           69  \n",
       "2           28  \n",
       "3           41  "
      ]
     },
     "execution_count": 48,
     "metadata": {},
     "output_type": "execute_result"
    }
   ],
   "source": [
    "df"
   ]
  },
  {
   "cell_type": "markdown",
   "id": "4f23b817",
   "metadata": {},
   "source": [
    "# Fuzz"
   ]
  },
  {
   "cell_type": "code",
   "execution_count": 38,
   "id": "73d1fc53",
   "metadata": {},
   "outputs": [
    {
     "name": "stdout",
     "output_type": "stream",
     "text": [
      "sort 69\n",
      "set 75\n"
     ]
    }
   ],
   "source": [
    "t0 = 'AARONS INC'\n",
    "t1 = 'AARONS CONCREATE'\n",
    "print(\"sort\", fuzz.token_sort_ratio(t0, t1))\n",
    "print(\"set\", fuzz.token_set_ratio(t0, t1))"
   ]
  },
  {
   "cell_type": "code",
   "execution_count": null,
   "id": "dcc7f37f",
   "metadata": {},
   "outputs": [],
   "source": []
  }
 ],
 "metadata": {
  "kernelspec": {
   "display_name": "Python 3",
   "language": "python",
   "name": "python3"
  },
  "language_info": {
   "codemirror_mode": {
    "name": "ipython",
    "version": 3
   },
   "file_extension": ".py",
   "mimetype": "text/x-python",
   "name": "python",
   "nbconvert_exporter": "python",
   "pygments_lexer": "ipython3",
   "version": "3.8.9"
  }
 },
 "nbformat": 4,
 "nbformat_minor": 5
}
